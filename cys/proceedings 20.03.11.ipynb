{
 "cells": [
  {
   "cell_type": "markdown",
   "metadata": {},
   "source": [
    "## Analysis Team Task Division\n",
    "\n",
    "    Color Fixation\n",
    "    - bright: Yesul\n",
    "    - harmony: Yoonseong\n",
    "    -> Final conclusions on adjusting SV values can be reached\n",
    "    \n",
    "    Color Alteration\n",
    "    - bright: Jaejoong\n",
    "    - harmony: Doyeon\n",
    "    -> Conclusions on adjusting H values can be reached\n",
    "\n",
    "    \n",
    "## List of Tasks to Analyze\n",
    "\n",
    "    1. Visualize Survey Results with Graphs\n",
    "        - By sample\n",
    "        - Overall\n",
    "    \n",
    "    2. Recognition Differences\n",
    "        - Gender\n",
    "        - Age\n",
    "        - Fashion interest level\n",
    "        - Personal color concept\n",
    "        - Preferred colors\n",
    "        - Purpose\n",
    "        - Fashion interest level * Preferred colors\n",
    "        and so on\n",
    "        \n",
    "    3. Drawing Conclusions\n",
    "    \n",
    "    [ Reference Materials ]\n",
    "        Survey preprocessing data: github - CAI - jay - Statistical hypothesis testing - Survey_preprocessing.ipynb\n",
    "                                  : github - CAI - cys - CAI_Survey_preprocessing.ipynb\n",
    "        Survey-related data: github - CAI - jay - Personal color hypothesis verification items.ipynb\n",
    "        Analysis example data: github - CAI - cys - CAI_Facial Parts.ipynb\n",
    "        Chi-square related data: github - CAI - cys - statistics5_Chisquare.ipynb\n",
    "        \n",
    "        \n",
    "## Points to Consider\n",
    "\n",
    "    1. Which of the representative values of color fixation and color alteration can be chosen as the representative color?\n",
    "    2. Is personal color a color that brightens the complexion, or is it a color that harmonizes with the complexion?\n",
    "    3. And so on.......\n",
    "    \n",
    "    Consider specific approaches for analyzing these issues statistically."
   ]
  },
  {
   "cell_type": "code",
   "execution_count": null,
   "metadata": {},
   "outputs": [],
   "source": []
  }
 ],
 "metadata": {
  "kernelspec": {
   "display_name": "Python 3",
   "language": "python",
   "name": "python3"
  },
  "language_info": {
   "codemirror_mode": {
    "name": "ipython",
    "version": 3
   },
   "file_extension": ".py",
   "mimetype": "text/x-python",
   "name": "python",
   "nbconvert_exporter": "python",
   "pygments_lexer": "ipython3",
   "version": "3.7.6"
  }
 },
 "nbformat": 4,
 "nbformat_minor": 4
}
