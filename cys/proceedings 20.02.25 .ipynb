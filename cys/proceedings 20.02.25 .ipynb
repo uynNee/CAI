{
 "cells": [
  {
   "cell_type": "markdown",
   "metadata": {},
   "source": [
    "### Facial Photos\n",
    "\n",
    "- If it's not possible to receive them from Doyeon's brother's friend within a short period,\n",
    "\n",
    "- Consider crawling facial photos from the internet or exploring other connections.\n",
    "\n",
    "### Crawling Photos of Clothes from Musinsa\n",
    "\n",
    "- Crawling photos of clothes from Musinsa.\n",
    "\n",
    "- Investigate and write code to recognize only clothes in the photos.\n",
    "\n",
    "- Color classification is not necessary.\n",
    "\n",
    "- Responsible Persons: Yunseong and Eunjoo.\n",
    "\n",
    "### Survey\n",
    "\n",
    "1. Can the color of the cheeks be designated as the color representing the entire face?\n",
    "\n",
    "- Formulate null and alternative hypotheses regarding whether the color of the cheeks represents the entire face.\n",
    "\n",
    "- Adjust the white balance of celebrity photos to extract HSV values ​​of the cheeks and chin.\n",
    "\n",
    "   On the survey form, list full-face photos, cheek color, and chin color, and investigate which color, cheeks or chin, is closer to the overall face color.\n",
    "\n",
    "2. Is personal color meaningful?\n",
    "\n",
    "- Formulate null and alternative hypotheses regarding whether the criteria for personal color mentioned in the paper are meaningful.\n",
    "\n",
    "- Investigate complementary colors, triadic colors, and double complementary colors for each personal color type criterion and determine which colors show the skin color most brightly.\n",
    "\n",
    "- Investigate colors opposite to the criteria for personal color types and examine the effects of these colors on skin tone.\n",
    "\n",
    "- Investigate colors on the boundary of the criteria for personal color types and examine the effects of these colors on skin tone.\n",
    "\n",
    "#### Surveys will be distributed via Naver Form or printed.\n",
    "\n",
    "#### Include age and gender sections on the survey form to investigate visual differences based on age and gender."
   ]
  }
 ],
 "metadata": {
  "kernelspec": {
   "display_name": "Python 3",
   "language": "python",
   "name": "python3"
  },
  "language_info": {
   "codemirror_mode": {
    "name": "ipython",
    "version": 3
   },
   "file_extension": ".py",
   "mimetype": "text/x-python",
   "name": "python",
   "nbconvert_exporter": "python",
   "pygments_lexer": "ipython3",
   "version": "3.7.6"
  }
 },
 "nbformat": 4,
 "nbformat_minor": 4
}
