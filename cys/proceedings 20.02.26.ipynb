{
 "cells": [
  {
   "cell_type": "markdown",
   "metadata": {},
   "source": [
    "### Analysis Section\n",
    "\n",
    "- Further investigate the elements to analyze the data from the report on \"A Study on the Construction of a Quantitative Evaluation Model for Personal Color Skin Tone Type Classification\".\n",
    "\n",
    "- Identify the required data based on the analysis elements and inform the development team (Hee-Seung Oppa).\n",
    "\n",
    "- Study the statistical part using R or Python, and determine which theories are appropriate to use."
   ]
  }
 ],
 "metadata": {
  "kernelspec": {
   "display_name": "Python 3",
   "language": "python",
   "name": "python3"
  },
  "language_info": {
   "codemirror_mode": {
    "name": "ipython",
    "version": 3
   },
   "file_extension": ".py",
   "mimetype": "text/x-python",
   "name": "python",
   "nbconvert_exporter": "python",
   "pygments_lexer": "ipython3",
   "version": "3.7.6"
  }
 },
 "nbformat": 4,
 "nbformat_minor": 4
}
