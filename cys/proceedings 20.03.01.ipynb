{
 "cells": [
  {
   "cell_type": "markdown",
   "metadata": {},
   "source": [
    "### Survey Form Modifications\n",
    "\n",
    "- Emphasize screen brightness\n",
    "- Merge questions about interest in personal color and knowledge about it into one\n",
    "  Unify based on what they know\n",
    "\n",
    "### Celebrity Skin Tone Scanning Area\n",
    "\n",
    "- Scoring method (1-5 points)\n",
    "  Pros: Increases the parts that can be statistically analyzed\n",
    "  Cons: Survey respondents may find it difficult to vote\n",
    "\n",
    "- Select only one most suitable area\n",
    "  Pros: Survey respondents can carefully choose only one\n",
    "  Cons: It is thought that only hypotheses already set up can be verified\n",
    "\n",
    "- Method to introduce deviation (Completely different, Not similar, Similar, Very similar)\n",
    "  Pros: Increases the parts that can be statistically analyzed\n",
    "  Cons: Survey respondents may find it difficult to vote\n",
    "\n",
    "< Final Conclusion >\n",
    "\n",
    "- Method of selecting 2\n",
    "  Displaying images together at once makes it easy to view the survey form\n",
    "  Since it is a method of selecting 2, it is thought that survey respondents will find it easy to vote, and there will be many parts to analyze statistically\n",
    "\n",
    "### Personal Color Image Size\n",
    "\n",
    "- Square shape with numbers indicated separately"
   ]
  }
 ],
 "metadata": {
  "kernelspec": {
   "display_name": "Python 3",
   "language": "python",
   "name": "python3"
  },
  "language_info": {
   "codemirror_mode": {
    "name": "ipython",
    "version": 3
   },
   "file_extension": ".py",
   "mimetype": "text/x-python",
   "name": "python",
   "nbconvert_exporter": "python",
   "pygments_lexer": "ipython3",
   "version": "3.7.4"
  }
 },
 "nbformat": 4,
 "nbformat_minor": 2
}
